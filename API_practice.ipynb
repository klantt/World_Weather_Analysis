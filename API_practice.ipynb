{
 "cells": [
  {
   "cell_type": "code",
   "execution_count": 1,
   "id": "253ab8ef",
   "metadata": {},
   "outputs": [],
   "source": [
    "import pandas as pd"
   ]
  },
  {
   "cell_type": "code",
   "execution_count": 48,
   "id": "91e67c1e",
   "metadata": {},
   "outputs": [],
   "source": [
    "from matplotlib import pyplot as plt\n",
    "\n",
    "import numpy as np"
   ]
  },
  {
   "cell_type": "code",
   "execution_count": 2,
   "id": "6ec262c4",
   "metadata": {},
   "outputs": [],
   "source": [
    "# Use the citipy module to determine city based on latitude and longitude\n",
    "\n",
    "from citipy import citipy"
   ]
  },
  {
   "cell_type": "code",
   "execution_count": 3,
   "id": "dffd3201",
   "metadata": {},
   "outputs": [],
   "source": [
    "coordinates = []\n",
    "\n",
    "for x in range(11):\n",
    "  for y in range(11):\n",
    "    coordinates.append((x, y))\n"
   ]
  },
  {
   "cell_type": "code",
   "execution_count": 4,
   "id": "51835347",
   "metadata": {
    "scrolled": true
   },
   "outputs": [
    {
     "name": "stdout",
     "output_type": "stream",
     "text": [
      "takoradi gh\n",
      "mumford gh\n",
      "anloga gh\n",
      "port-gentil ga\n",
      "port-gentil ga\n",
      "port-gentil ga\n",
      "port-gentil ga\n",
      "port-gentil ga\n",
      "port-gentil ga\n",
      "libreville ga\n",
      "kango ga\n",
      "takoradi gh\n",
      "mumford gh\n",
      "anloga gh\n",
      "yenagoa ng\n",
      "yenagoa ng\n",
      "abonnema ng\n",
      "port-gentil ga\n",
      "port-gentil ga\n",
      "libreville ga\n",
      "cocobeach ga\n",
      "cocobeach ga\n",
      "cape coast gh\n",
      "winneba gh\n",
      "anloga gh\n",
      "anloga gh\n",
      "yenagoa ng\n",
      "yenagoa ng\n",
      "abonnema ng\n",
      "luba gq\n",
      "luba gq\n",
      "mbini gq\n",
      "bata gq\n",
      "mumford gh\n",
      "anloga gh\n",
      "anloga gh\n",
      "cotonou bj\n",
      "yenagoa ng\n",
      "yenagoa ng\n",
      "abonnema ng\n",
      "opobo ng\n",
      "luba gq\n",
      "riaba gq\n",
      "kribi cm\n",
      "winneba gh\n",
      "anloga gh\n",
      "anloga gh\n",
      "cotonou bj\n",
      "warri ng\n",
      "yenagoa ng\n",
      "yenagoa ng\n",
      "abonnema ng\n",
      "opobo ng\n",
      "limbe cm\n",
      "edea cm\n",
      "accra gh\n",
      "anloga gh\n",
      "aneho tg\n",
      "cotonou bj\n",
      "lagos ng\n",
      "warri ng\n",
      "yenagoa ng\n",
      "port harcourt ng\n",
      "uyo ng\n",
      "kumba cm\n",
      "nkongsamba cm\n",
      "akropong gh\n",
      "keta gh\n",
      "ouidah bj\n",
      "lagos ng\n",
      "epe ng\n",
      "okitipupa ng\n",
      "agbor ng\n",
      "nnewi ng\n",
      "afikpo ng\n",
      "ikom ng\n",
      "mbengwi cm\n",
      "kpandu gh\n",
      "notse tg\n",
      "abomey bj\n",
      "ifo ng\n",
      "apomu ng\n",
      "idanre ng\n",
      "auchi ng\n",
      "idah ng\n",
      "effium ng\n",
      "gboko ng\n",
      "wum cm\n",
      "kpandae gh\n",
      "atakpame tg\n",
      "savalou bj\n",
      "save bj\n",
      "oyo ng\n",
      "ila ng\n",
      "ode ng\n",
      "lokoja ng\n",
      "makurdi ng\n",
      "makurdi ng\n",
      "wukari ng\n",
      "yendi gh\n",
      "sokode tg\n",
      "beterou bj\n",
      "tchaourou bj\n",
      "kishi ng\n",
      "lafiagi ng\n",
      "bida ng\n",
      "suleja ng\n",
      "keffi ng\n",
      "lafia ng\n",
      "wukari ng\n",
      "yendi gh\n",
      "kande tg\n",
      "djougou bj\n",
      "nikki bj\n",
      "nikki bj\n",
      "kontagora ng\n",
      "kontagora ng\n",
      "minna ng\n",
      "kafanchan ng\n",
      "jos ng\n",
      "bauchi ng\n"
     ]
    }
   ],
   "source": [
    "# Use the print() function to display the latitude and longitude combinations\n",
    "\n",
    "for coordinate in coordinates:\n",
    "    print(citipy.nearest_city(coordinate[0], coordinate[1]).city_name, \n",
    "          citipy.nearest_city(coordinate[0], coordinate[1]).country_code)"
   ]
  },
  {
   "cell_type": "code",
   "execution_count": 5,
   "id": "ad956599",
   "metadata": {},
   "outputs": [],
   "source": [
    "# Import the requests library\n",
    "\n",
    "import requests"
   ]
  },
  {
   "cell_type": "code",
   "execution_count": 6,
   "id": "b6c9e628",
   "metadata": {
    "scrolled": true
   },
   "outputs": [],
   "source": [
    "# Import the API key\n",
    "\n",
    "from config import weather_api_key"
   ]
  },
  {
   "cell_type": "code",
   "execution_count": 7,
   "id": "4f150a4b",
   "metadata": {},
   "outputs": [
    {
     "data": {
      "text/plain": [
       "77"
      ]
     },
     "execution_count": 7,
     "metadata": {},
     "output_type": "execute_result"
    }
   ],
   "source": [
    "# Create a list for holding the cities\n",
    "\n",
    "cities = []\n",
    "\n",
    "# Identify the nearest city for each latitude and longitude combination\n",
    "\n",
    "for coordinate in coordinates:\n",
    "    city = citipy.nearest_city(coordinate[0], coordinate[1]).city_name\n",
    "\n",
    "    # If the city is unique, then we will add it to the cities list\n",
    "    \n",
    "    if city not in cities:\n",
    "        cities.append(city)\n",
    "        \n",
    "# Print the city count to confirm sufficient count\n",
    "\n",
    "len(cities)"
   ]
  },
  {
   "cell_type": "code",
   "execution_count": 8,
   "id": "e35f5fcc",
   "metadata": {},
   "outputs": [
    {
     "data": {
      "text/plain": [
       "'2.27.1'"
      ]
     },
     "execution_count": 8,
     "metadata": {},
     "output_type": "execute_result"
    }
   ],
   "source": [
    "import requests\n",
    "\n",
    "requests.__version__"
   ]
  },
  {
   "cell_type": "code",
   "execution_count": 9,
   "id": "8df368a6",
   "metadata": {},
   "outputs": [],
   "source": [
    "# Import the requests library\n",
    "\n",
    "import requests\n",
    "\n",
    "# Import the API key\n",
    "\n",
    "from config import weather_api_key"
   ]
  },
  {
   "cell_type": "code",
   "execution_count": 10,
   "id": "b3636460",
   "metadata": {},
   "outputs": [
    {
     "name": "stdout",
     "output_type": "stream",
     "text": [
      "http://api.openweathermap.org/data/2.5/weather?units=Imperial&APPID=32da3406a9a49c723297a8f9cad8668d\n"
     ]
    }
   ],
   "source": [
    "# Starting URL for Weather Map API Call\n",
    "\n",
    "url = \"http://api.openweathermap.org/data/2.5/weather?units=Imperial&APPID=\" + weather_api_key\n",
    "\n",
    "print(url)"
   ]
  },
  {
   "cell_type": "code",
   "execution_count": 11,
   "id": "434787cf",
   "metadata": {},
   "outputs": [
    {
     "name": "stdout",
     "output_type": "stream",
     "text": [
      "http://api.openweathermap.org/data/2.5/weather?units=Imperial&APPID=32da3406a9a49c723297a8f9cad8668d&q=Boston\n"
     ]
    }
   ],
   "source": [
    "# Create an endpoint URL for a city\n",
    "\n",
    "city_url = url + \"&q=\" + \"Boston\"\n",
    "\n",
    "print(city_url)"
   ]
  },
  {
   "cell_type": "code",
   "execution_count": 12,
   "id": "d12323f4",
   "metadata": {},
   "outputs": [
    {
     "data": {
      "text/plain": [
       "<Response [200]>"
      ]
     },
     "execution_count": 12,
     "metadata": {},
     "output_type": "execute_result"
    }
   ],
   "source": [
    "# Make a 'Get' request for the city weather\n",
    "\n",
    "city_weather = requests.get(city_url)\n",
    "city_weather"
   ]
  },
  {
   "cell_type": "code",
   "execution_count": 13,
   "id": "2160db15",
   "metadata": {},
   "outputs": [
    {
     "data": {
      "text/plain": [
       "<Response [200]>"
      ]
     },
     "execution_count": 13,
     "metadata": {},
     "output_type": "execute_result"
    }
   ],
   "source": [
    "# Create an endpoint URL for a city\n",
    "\n",
    "city_url = url + \"&q=\" + \"Boston\"\n",
    "city_weather = requests.get(city_url)\n",
    "city_weather"
   ]
  },
  {
   "cell_type": "code",
   "execution_count": 14,
   "id": "e4cf485b",
   "metadata": {},
   "outputs": [
    {
     "data": {
      "text/plain": [
       "'{\"coord\":{\"lon\":-71.0598,\"lat\":42.3584},\"weather\":[{\"id\":801,\"main\":\"Clouds\",\"description\":\"few clouds\",\"icon\":\"02n\"}],\"base\":\"stations\",\"main\":{\"temp\":62.87,\"feels_like\":62.47,\"temp_min\":57.16,\"temp_max\":66.15,\"pressure\":1017,\"humidity\":77},\"visibility\":10000,\"wind\":{\"speed\":3.44,\"deg\":180},\"clouds\":{\"all\":20},\"dt\":1657422470,\"sys\":{\"type\":1,\"id\":3486,\"country\":\"US\",\"sunrise\":1657358158,\"sunset\":1657412553},\"timezone\":-14400,\"id\":4930956,\"name\":\"Boston\",\"cod\":200}'"
      ]
     },
     "execution_count": 14,
     "metadata": {},
     "output_type": "execute_result"
    }
   ],
   "source": [
    "# Get the text of the 'Get' request\n",
    "\n",
    "city_weather.text"
   ]
  },
  {
   "cell_type": "code",
   "execution_count": 15,
   "id": "71458afa",
   "metadata": {},
   "outputs": [
    {
     "name": "stdout",
     "output_type": "stream",
     "text": [
      "City Weather found.\n"
     ]
    }
   ],
   "source": [
    "# Create an endpoint URL for a city\n",
    "\n",
    "city_url = url + \"&q=\" + \"Boston\"\n",
    "city_weather = requests.get(city_url)\n",
    "if city_weather.status_code == 200:\n",
    "    print(f\"City Weather found.\")\n",
    "else:\n",
    "    print(f\"City weather not found.\")"
   ]
  },
  {
   "cell_type": "code",
   "execution_count": 16,
   "id": "171c225a",
   "metadata": {},
   "outputs": [
    {
     "name": "stdout",
     "output_type": "stream",
     "text": [
      "http://api.openweathermap.org/data/2.5/weather?units=Imperial&APPID=32da3406a9a49c723297a8f9cad8668d&q=Boston\n"
     ]
    }
   ],
   "source": [
    "print(city_url)"
   ]
  },
  {
   "cell_type": "code",
   "execution_count": 17,
   "id": "cf746076",
   "metadata": {},
   "outputs": [
    {
     "data": {
      "text/plain": [
       "{'coord': {'lon': -71.0598, 'lat': 42.3584},\n",
       " 'weather': [{'id': 801,\n",
       "   'main': 'Clouds',\n",
       "   'description': 'few clouds',\n",
       "   'icon': '02n'}],\n",
       " 'base': 'stations',\n",
       " 'main': {'temp': 62.87,\n",
       "  'feels_like': 62.47,\n",
       "  'temp_min': 57.16,\n",
       "  'temp_max': 66.15,\n",
       "  'pressure': 1017,\n",
       "  'humidity': 77},\n",
       " 'visibility': 10000,\n",
       " 'wind': {'speed': 3.44, 'deg': 180},\n",
       " 'clouds': {'all': 20},\n",
       " 'dt': 1657422470,\n",
       " 'sys': {'type': 1,\n",
       "  'id': 3486,\n",
       "  'country': 'US',\n",
       "  'sunrise': 1657358158,\n",
       "  'sunset': 1657412553},\n",
       " 'timezone': -14400,\n",
       " 'id': 4930956,\n",
       " 'name': 'Boston',\n",
       " 'cod': 200}"
      ]
     },
     "execution_count": 17,
     "metadata": {},
     "output_type": "execute_result"
    }
   ],
   "source": [
    "# Create an endpoint URL for a city\n",
    "\n",
    "city_url = url + \"&q=\" + \"Boston\"\n",
    "city_weather = requests.get(city_url)\n",
    "city_weather.json()"
   ]
  },
  {
   "cell_type": "code",
   "execution_count": 18,
   "id": "1d624db9",
   "metadata": {},
   "outputs": [],
   "source": [
    "# Get the JSON data\n",
    "\n",
    "boston_data = city_weather.json()"
   ]
  },
  {
   "cell_type": "code",
   "execution_count": 19,
   "id": "1317119a",
   "metadata": {},
   "outputs": [
    {
     "data": {
      "text/plain": [
       "{'type': 1,\n",
       " 'id': 3486,\n",
       " 'country': 'US',\n",
       " 'sunrise': 1657358158,\n",
       " 'sunset': 1657412553}"
      ]
     },
     "execution_count": 19,
     "metadata": {},
     "output_type": "execute_result"
    }
   ],
   "source": [
    "boston_data['sys']"
   ]
  },
  {
   "cell_type": "code",
   "execution_count": 20,
   "id": "0fa18e4c",
   "metadata": {},
   "outputs": [
    {
     "data": {
      "text/plain": [
       "1657422470"
      ]
     },
     "execution_count": 20,
     "metadata": {},
     "output_type": "execute_result"
    }
   ],
   "source": [
    "boston_data[\"dt\"]"
   ]
  },
  {
   "cell_type": "code",
   "execution_count": 21,
   "id": "694d0c1f",
   "metadata": {},
   "outputs": [
    {
     "name": "stdout",
     "output_type": "stream",
     "text": [
      "42.3584 -71.0598 66.15 77 20 3.44\n"
     ]
    }
   ],
   "source": [
    "lat = boston_data[\"coord\"][\"lat\"]\n",
    "lng = boston_data[\"coord\"][\"lon\"]\n",
    "max_temp = boston_data[\"main\"][\"temp_max\"]\n",
    "humidity = boston_data[\"main\"][\"humidity\"]\n",
    "clouds = boston_data[\"clouds\"][\"all\"]\n",
    "wind = boston_data[\"wind\"][\"speed\"]\n",
    "print(lat, lng, max_temp, humidity, clouds, wind)"
   ]
  },
  {
   "cell_type": "code",
   "execution_count": 22,
   "id": "d1f44a19",
   "metadata": {},
   "outputs": [
    {
     "data": {
      "text/plain": [
       "datetime.datetime(2022, 7, 10, 3, 7, 50)"
      ]
     },
     "execution_count": 22,
     "metadata": {},
     "output_type": "execute_result"
    }
   ],
   "source": [
    "# Import the datetime module from the datetime library\n",
    "\n",
    "from datetime import datetime\n",
    "\n",
    "# Get the date from the JSON file\n",
    "\n",
    "date = boston_data[\"dt\"]\n",
    "\n",
    "# Convert the UTC date to a date format with year, month, day, hours, minutes, and seconds\n",
    "\n",
    "datetime.utcfromtimestamp(date)"
   ]
  },
  {
   "cell_type": "code",
   "execution_count": 23,
   "id": "4fd22d11",
   "metadata": {},
   "outputs": [
    {
     "data": {
      "text/plain": [
       "'2022-07-10 03:07:50'"
      ]
     },
     "execution_count": 23,
     "metadata": {},
     "output_type": "execute_result"
    }
   ],
   "source": [
    "datetime.utcfromtimestamp(date).strftime('%Y-%m-%d %H:%M:%S')"
   ]
  },
  {
   "cell_type": "code",
   "execution_count": 24,
   "id": "de938b04",
   "metadata": {},
   "outputs": [],
   "source": [
    "# Import the time library and the datetime module from the datetime library \n",
    "\n",
    "import time\n",
    "from datetime import datetime"
   ]
  },
  {
   "cell_type": "code",
   "execution_count": 25,
   "id": "ce10382d",
   "metadata": {},
   "outputs": [
    {
     "name": "stdout",
     "output_type": "stream",
     "text": [
      "Beginning Data Retrieval     \n",
      "-----------------------------\n",
      "Processing Record 1 of Set 2 | takoradi\n",
      "Processing Record 2 of Set 2 | mumford\n",
      "Processing Record 3 of Set 2 | anloga\n",
      "Processing Record 4 of Set 2 | port-gentil\n",
      "Processing Record 5 of Set 2 | libreville\n",
      "Processing Record 6 of Set 2 | kango\n",
      "Processing Record 7 of Set 2 | yenagoa\n",
      "Processing Record 8 of Set 2 | abonnema\n",
      "Processing Record 9 of Set 2 | cocobeach\n",
      "Processing Record 10 of Set 2 | cape coast\n",
      "Processing Record 11 of Set 2 | winneba\n",
      "Processing Record 12 of Set 2 | luba\n",
      "Processing Record 13 of Set 2 | mbini\n",
      "Processing Record 14 of Set 2 | bata\n",
      "Processing Record 15 of Set 2 | cotonou\n",
      "Processing Record 16 of Set 2 | opobo\n",
      "City not found. Skipping...\n",
      "Processing Record 17 of Set 2 | riaba\n",
      "City not found. Skipping...\n",
      "Processing Record 18 of Set 2 | kribi\n",
      "Processing Record 19 of Set 2 | warri\n",
      "Processing Record 20 of Set 2 | limbe\n",
      "Processing Record 21 of Set 2 | edea\n",
      "Processing Record 22 of Set 2 | accra\n",
      "Processing Record 23 of Set 2 | aneho\n",
      "Processing Record 24 of Set 2 | lagos\n",
      "Processing Record 25 of Set 2 | port harcourt\n",
      "Processing Record 26 of Set 2 | uyo\n",
      "Processing Record 27 of Set 2 | kumba\n",
      "Processing Record 28 of Set 2 | nkongsamba\n",
      "Processing Record 29 of Set 2 | akropong\n",
      "Processing Record 30 of Set 2 | keta\n",
      "Processing Record 31 of Set 2 | ouidah\n",
      "Processing Record 32 of Set 2 | epe\n",
      "Processing Record 33 of Set 2 | okitipupa\n",
      "Processing Record 34 of Set 2 | agbor\n",
      "Processing Record 35 of Set 2 | nnewi\n",
      "Processing Record 36 of Set 2 | afikpo\n",
      "Processing Record 37 of Set 2 | ikom\n",
      "Processing Record 38 of Set 2 | mbengwi\n",
      "Processing Record 39 of Set 2 | kpandu\n",
      "Processing Record 40 of Set 2 | notse\n",
      "Processing Record 41 of Set 2 | abomey\n",
      "Processing Record 42 of Set 2 | ifo\n",
      "Processing Record 43 of Set 2 | apomu\n",
      "Processing Record 44 of Set 2 | idanre\n",
      "Processing Record 45 of Set 2 | auchi\n",
      "Processing Record 46 of Set 2 | idah\n",
      "Processing Record 47 of Set 2 | effium\n",
      "Processing Record 48 of Set 2 | gboko\n",
      "Processing Record 49 of Set 2 | wum\n",
      "Processing Record 50 of Set 2 | kpandae\n",
      "Processing Record 1 of Set 3 | atakpame\n",
      "Processing Record 2 of Set 3 | savalou\n",
      "Processing Record 3 of Set 3 | save\n",
      "Processing Record 4 of Set 3 | oyo\n",
      "Processing Record 5 of Set 3 | ila\n",
      "Processing Record 6 of Set 3 | ode\n",
      "Processing Record 7 of Set 3 | lokoja\n",
      "Processing Record 8 of Set 3 | makurdi\n",
      "Processing Record 9 of Set 3 | wukari\n",
      "Processing Record 10 of Set 3 | yendi\n",
      "Processing Record 11 of Set 3 | sokode\n",
      "Processing Record 12 of Set 3 | beterou\n",
      "Processing Record 13 of Set 3 | tchaourou\n",
      "Processing Record 14 of Set 3 | kishi\n",
      "Processing Record 15 of Set 3 | lafiagi\n",
      "Processing Record 16 of Set 3 | bida\n",
      "Processing Record 17 of Set 3 | suleja\n",
      "Processing Record 18 of Set 3 | keffi\n",
      "Processing Record 19 of Set 3 | lafia\n",
      "Processing Record 20 of Set 3 | kande\n",
      "Processing Record 21 of Set 3 | djougou\n",
      "Processing Record 22 of Set 3 | nikki\n",
      "Processing Record 23 of Set 3 | kontagora\n",
      "Processing Record 24 of Set 3 | minna\n",
      "Processing Record 25 of Set 3 | kafanchan\n",
      "Processing Record 26 of Set 3 | jos\n",
      "Processing Record 27 of Set 3 | bauchi\n",
      "-----------------------------\n",
      "Data Retrieval Complete      \n",
      "-----------------------------\n"
     ]
    }
   ],
   "source": [
    "# Create an empty list to hold the weather data\n",
    "\n",
    "city_data = []\n",
    "\n",
    "# Print the beginning of the logging\n",
    "\n",
    "print(\"Beginning Data Retrieval     \")\n",
    "print(\"-----------------------------\")\n",
    "\n",
    "# Create counters\n",
    "\n",
    "record_count = 1\n",
    "set_count = 1\n",
    "\n",
    "# Loop through all the cities in our list\n",
    "\n",
    "for i in range(len(cities)):\n",
    "\n",
    "    # Group cities in sets of 50 for logging purposes\n",
    "    \n",
    "    if (i % 50 == 0 and i >= 50):\n",
    "        set_count += 1\n",
    "        record_count = 1\n",
    "        time.sleep(60)\n",
    "\n",
    "    # Create endpoint URL with each city\n",
    "    \n",
    "    city_url = url + \"&q=\" + cities[i]\n",
    "    \n",
    "    # Loop through all the cities in the list\n",
    "    \n",
    "for i, city in enumerate(cities):\n",
    "\n",
    "    # Group cities in sets of 50 for logging purposes\n",
    "    \n",
    "    if (i % 50 == 0 and i >= 50):\n",
    "        set_count += 1\n",
    "        record_count = 1\n",
    "        time.sleep(60)\n",
    "\n",
    "    # Create endpoint URL with each city\n",
    "    \n",
    "    city_url = url + \"&q=\" + city.replace(\" \",\"+\")\n",
    "\n",
    "    # Log the URL, record, and set numbers and the city\n",
    "    \n",
    "    print(f\"Processing Record {record_count} of Set {set_count} | {city}\")\n",
    "    \n",
    "    # Add 1 to the record count\n",
    "    \n",
    "    record_count += 1\n",
    "    \n",
    "    # Run an API request for each of the cities\n",
    "\n",
    "    try:\n",
    "        # Parse the JSON and retrieve data\n",
    "        \n",
    "        city_weather = requests.get(city_url).json()\n",
    "        \n",
    "        # Parse out the needed data\n",
    "        \n",
    "        city_lat = city_weather[\"coord\"][\"lat\"]\n",
    "        city_lng = city_weather[\"coord\"][\"lon\"]\n",
    "        city_max_temp = city_weather[\"main\"][\"temp_max\"]\n",
    "        city_humidity = city_weather[\"main\"][\"humidity\"]\n",
    "        city_clouds = city_weather[\"clouds\"][\"all\"]\n",
    "        city_wind = city_weather[\"wind\"][\"speed\"]\n",
    "        city_country = city_weather[\"sys\"][\"country\"]\n",
    "        \n",
    "        # Convert the date to ISO standard\n",
    "        \n",
    "        city_date = datetime.utcfromtimestamp(city_weather[\"dt\"]).strftime('%Y-%m-%d %H:%M:%S')\n",
    "        \n",
    "        # Append the city information into city_data list\n",
    "        \n",
    "        city_data.append({\"City\": city.title(),\n",
    "                          \"Lat\": city_lat,\n",
    "                          \"Lng\": city_lng,\n",
    "                          \"Max Temp\": city_max_temp,\n",
    "                          \"Humidity\": city_humidity,\n",
    "                          \"Cloudiness\": city_clouds,\n",
    "                          \"Wind Speed\": city_wind,\n",
    "                          \"Country\": city_country,\n",
    "                          \"Date\": city_date})\n",
    "\n",
    "# If an error is experienced, skip the city\n",
    "\n",
    "    except:\n",
    "        print(\"City not found. Skipping...\")\n",
    "        pass\n",
    "\n",
    "# Indicate that Data Loading is complete\n",
    "\n",
    "print(\"-----------------------------\")\n",
    "print(\"Data Retrieval Complete      \")\n",
    "print(\"-----------------------------\")"
   ]
  },
  {
   "cell_type": "code",
   "execution_count": 37,
   "id": "f35b3568",
   "metadata": {},
   "outputs": [
    {
     "data": {
      "text/html": [
       "<div>\n",
       "<style scoped>\n",
       "    .dataframe tbody tr th:only-of-type {\n",
       "        vertical-align: middle;\n",
       "    }\n",
       "\n",
       "    .dataframe tbody tr th {\n",
       "        vertical-align: top;\n",
       "    }\n",
       "\n",
       "    .dataframe thead th {\n",
       "        text-align: right;\n",
       "    }\n",
       "</style>\n",
       "<table border=\"1\" class=\"dataframe\">\n",
       "  <thead>\n",
       "    <tr style=\"text-align: right;\">\n",
       "      <th></th>\n",
       "      <th>City</th>\n",
       "      <th>Lat</th>\n",
       "      <th>Lng</th>\n",
       "      <th>Max Temp</th>\n",
       "      <th>Humidity</th>\n",
       "      <th>Cloudiness</th>\n",
       "      <th>Wind Speed</th>\n",
       "      <th>Country</th>\n",
       "      <th>Date</th>\n",
       "    </tr>\n",
       "  </thead>\n",
       "  <tbody>\n",
       "    <tr>\n",
       "      <th>0</th>\n",
       "      <td>Takoradi</td>\n",
       "      <td>4.8845</td>\n",
       "      <td>-1.7554</td>\n",
       "      <td>74.91</td>\n",
       "      <td>85</td>\n",
       "      <td>100</td>\n",
       "      <td>8.25</td>\n",
       "      <td>GH</td>\n",
       "      <td>2022-07-10 03:11:22</td>\n",
       "    </tr>\n",
       "    <tr>\n",
       "      <th>1</th>\n",
       "      <td>Mumford</td>\n",
       "      <td>5.2618</td>\n",
       "      <td>-0.7590</td>\n",
       "      <td>75.65</td>\n",
       "      <td>87</td>\n",
       "      <td>100</td>\n",
       "      <td>11.95</td>\n",
       "      <td>GH</td>\n",
       "      <td>2022-07-10 03:11:23</td>\n",
       "    </tr>\n",
       "    <tr>\n",
       "      <th>2</th>\n",
       "      <td>Anloga</td>\n",
       "      <td>5.7947</td>\n",
       "      <td>0.8973</td>\n",
       "      <td>76.95</td>\n",
       "      <td>86</td>\n",
       "      <td>100</td>\n",
       "      <td>12.62</td>\n",
       "      <td>GH</td>\n",
       "      <td>2022-07-10 03:11:23</td>\n",
       "    </tr>\n",
       "    <tr>\n",
       "      <th>3</th>\n",
       "      <td>Port-Gentil</td>\n",
       "      <td>-0.7193</td>\n",
       "      <td>8.7815</td>\n",
       "      <td>72.16</td>\n",
       "      <td>80</td>\n",
       "      <td>52</td>\n",
       "      <td>12.44</td>\n",
       "      <td>GA</td>\n",
       "      <td>2022-07-10 03:11:23</td>\n",
       "    </tr>\n",
       "    <tr>\n",
       "      <th>4</th>\n",
       "      <td>Libreville</td>\n",
       "      <td>0.3925</td>\n",
       "      <td>9.4537</td>\n",
       "      <td>73.45</td>\n",
       "      <td>80</td>\n",
       "      <td>98</td>\n",
       "      <td>8.08</td>\n",
       "      <td>GA</td>\n",
       "      <td>2022-07-10 03:11:24</td>\n",
       "    </tr>\n",
       "    <tr>\n",
       "      <th>5</th>\n",
       "      <td>Kango</td>\n",
       "      <td>0.1943</td>\n",
       "      <td>10.0951</td>\n",
       "      <td>70.39</td>\n",
       "      <td>86</td>\n",
       "      <td>92</td>\n",
       "      <td>2.62</td>\n",
       "      <td>GA</td>\n",
       "      <td>2022-07-10 03:11:24</td>\n",
       "    </tr>\n",
       "    <tr>\n",
       "      <th>6</th>\n",
       "      <td>Yenagoa</td>\n",
       "      <td>4.9247</td>\n",
       "      <td>6.2642</td>\n",
       "      <td>73.29</td>\n",
       "      <td>96</td>\n",
       "      <td>100</td>\n",
       "      <td>3.53</td>\n",
       "      <td>NG</td>\n",
       "      <td>2022-07-10 03:11:25</td>\n",
       "    </tr>\n",
       "    <tr>\n",
       "      <th>7</th>\n",
       "      <td>Abonnema</td>\n",
       "      <td>4.7084</td>\n",
       "      <td>6.7931</td>\n",
       "      <td>74.16</td>\n",
       "      <td>92</td>\n",
       "      <td>100</td>\n",
       "      <td>4.63</td>\n",
       "      <td>NG</td>\n",
       "      <td>2022-07-10 03:11:25</td>\n",
       "    </tr>\n",
       "    <tr>\n",
       "      <th>8</th>\n",
       "      <td>Cocobeach</td>\n",
       "      <td>1.0002</td>\n",
       "      <td>9.5823</td>\n",
       "      <td>74.05</td>\n",
       "      <td>83</td>\n",
       "      <td>100</td>\n",
       "      <td>8.99</td>\n",
       "      <td>GA</td>\n",
       "      <td>2022-07-10 03:11:25</td>\n",
       "    </tr>\n",
       "    <tr>\n",
       "      <th>9</th>\n",
       "      <td>Cape Coast</td>\n",
       "      <td>5.1053</td>\n",
       "      <td>-1.2466</td>\n",
       "      <td>75.42</td>\n",
       "      <td>86</td>\n",
       "      <td>100</td>\n",
       "      <td>10.13</td>\n",
       "      <td>GH</td>\n",
       "      <td>2022-07-10 03:11:26</td>\n",
       "    </tr>\n",
       "  </tbody>\n",
       "</table>\n",
       "</div>"
      ],
      "text/plain": [
       "          City     Lat      Lng  Max Temp  Humidity  Cloudiness  Wind Speed  \\\n",
       "0     Takoradi  4.8845  -1.7554     74.91        85         100        8.25   \n",
       "1      Mumford  5.2618  -0.7590     75.65        87         100       11.95   \n",
       "2       Anloga  5.7947   0.8973     76.95        86         100       12.62   \n",
       "3  Port-Gentil -0.7193   8.7815     72.16        80          52       12.44   \n",
       "4   Libreville  0.3925   9.4537     73.45        80          98        8.08   \n",
       "5        Kango  0.1943  10.0951     70.39        86          92        2.62   \n",
       "6      Yenagoa  4.9247   6.2642     73.29        96         100        3.53   \n",
       "7     Abonnema  4.7084   6.7931     74.16        92         100        4.63   \n",
       "8    Cocobeach  1.0002   9.5823     74.05        83         100        8.99   \n",
       "9   Cape Coast  5.1053  -1.2466     75.42        86         100       10.13   \n",
       "\n",
       "  Country                 Date  \n",
       "0      GH  2022-07-10 03:11:22  \n",
       "1      GH  2022-07-10 03:11:23  \n",
       "2      GH  2022-07-10 03:11:23  \n",
       "3      GA  2022-07-10 03:11:23  \n",
       "4      GA  2022-07-10 03:11:24  \n",
       "5      GA  2022-07-10 03:11:24  \n",
       "6      NG  2022-07-10 03:11:25  \n",
       "7      NG  2022-07-10 03:11:25  \n",
       "8      GA  2022-07-10 03:11:25  \n",
       "9      GH  2022-07-10 03:11:26  "
      ]
     },
     "execution_count": 37,
     "metadata": {},
     "output_type": "execute_result"
    }
   ],
   "source": [
    "# Convert the array of dictionaries to a Pandas DataFrame\n",
    "\n",
    "city_data_df = pd.DataFrame(city_data)\n",
    "city_data_df.head(10)"
   ]
  },
  {
   "cell_type": "code",
   "execution_count": 50,
   "id": "605e1919",
   "metadata": {},
   "outputs": [],
   "source": [
    "# Create the output file (CSV)\n",
    "\n",
    "output_data_file = \"weather_data/cities.csv\"\n",
    "\n",
    "# Export the City_Data into a CSV\n",
    "\n",
    "city_data_df.to_csv(output_data_file, index_label=\"City_ID\")"
   ]
  },
  {
   "cell_type": "code",
   "execution_count": 51,
   "id": "40e6fc2a",
   "metadata": {},
   "outputs": [],
   "source": [
    "# Extract relevant fields from the DataFrame for plotting\n",
    "\n",
    "lats = city_data_df[\"Lat\"]\n",
    "max_temps = city_data_df[\"Max Temp\"]\n",
    "humidity = city_data_df[\"Humidity\"]\n",
    "cloudiness = city_data_df[\"Cloudiness\"]\n",
    "wind_speed = city_data_df[\"Wind Speed\"]"
   ]
  },
  {
   "cell_type": "code",
   "execution_count": 52,
   "id": "91530054",
   "metadata": {},
   "outputs": [
    {
     "data": {
      "text/plain": [
       "1657428078.7672095"
      ]
     },
     "execution_count": 52,
     "metadata": {},
     "output_type": "execute_result"
    }
   ],
   "source": [
    "# Import the time module\n",
    "\n",
    "import time\n",
    "\n",
    "# Get today's date in seconds\n",
    "\n",
    "today = time.time()\n",
    "today"
   ]
  },
  {
   "cell_type": "code",
   "execution_count": 53,
   "id": "72fa319e",
   "metadata": {},
   "outputs": [
    {
     "data": {
      "text/plain": [
       "'07/09/22'"
      ]
     },
     "execution_count": 53,
     "metadata": {},
     "output_type": "execute_result"
    }
   ],
   "source": [
    "today = time.strftime(\"%x\")\n",
    "today"
   ]
  },
  {
   "cell_type": "code",
   "execution_count": 54,
   "id": "c1c60523",
   "metadata": {},
   "outputs": [
    {
     "data": {
      "image/png": "[encoded data removed]",
      "text/plain": [
       "<Figure size 432x288 with 1 Axes>"
      ]
     },
     "metadata": {
      "needs_background": "light"
     },
     "output_type": "display_data"
    }
   ],
   "source": [
    "# Import time module\n",
    "\n",
    "import time\n",
    "\n",
    "# Build the scatter plot for latitude vs. max temperature\n",
    "\n",
    "plt.scatter(lats,\n",
    "            max_temps,\n",
    "            edgecolor=\"black\", linewidths=1, marker=\"o\",\n",
    "            alpha=0.8, label=\"Cities\")\n",
    "\n",
    "# Incorporate the other graph properties\n",
    "\n",
    "plt.title(f\"City Latitude vs. Max Temperature \"+ time.strftime(\"%x\"))\n",
    "plt.ylabel(\"Max Temperature (F)\")\n",
    "plt.xlabel(\"Latitude\")\n",
    "plt.grid(True)\n",
    "\n",
    "# Save the figure\n",
    "\n",
    "plt.savefig(\"weather_data/Fig1.png\")\n",
    "\n",
    "# Show plot\n",
    "\n",
    "plt.show()"
   ]
  },
  {
   "cell_type": "code",
   "execution_count": 55,
   "id": "03a77e95",
   "metadata": {},
   "outputs": [
    {
     "data": {
      "image/png": "[encoded data removed]",
      "text/plain": [
       "<Figure size 432x288 with 1 Axes>"
      ]
     },
     "metadata": {
      "needs_background": "light"
     },
     "output_type": "display_data"
    }
   ],
   "source": [
    "# Build the scatter plots for latitude vs. humidity\n",
    "\n",
    "plt.scatter(lats,\n",
    "            humidity,\n",
    "            edgecolor=\"black\", linewidths=1, marker=\"o\",\n",
    "            alpha=0.8, label=\"Cities\")\n",
    "\n",
    "# Incorporate the other graph properties\n",
    "\n",
    "plt.title(f\"City Latitude vs. Humidity \"+ time.strftime(\"%x\"))\n",
    "plt.ylabel(\"Humidity (%)\")\n",
    "plt.xlabel(\"Latitude\")\n",
    "plt.grid(True)\n",
    "\n",
    "# Save the figure\n",
    "\n",
    "plt.savefig(\"weather_data/Fig2.png\")\n",
    "\n",
    "# Show plot\n",
    "\n",
    "plt.show()"
   ]
  },
  {
   "cell_type": "code",
   "execution_count": 56,
   "id": "a1d432aa",
   "metadata": {},
   "outputs": [
    {
     "data": {
      "image/png": "[encoded data removed]",
      "text/plain": [
       "<Figure size 432x288 with 1 Axes>"
      ]
     },
     "metadata": {
      "needs_background": "light"
     },
     "output_type": "display_data"
    }
   ],
   "source": [
    "# Build the scatter plots for latitude vs. cloudiness\n",
    "\n",
    "plt.scatter(lats,\n",
    "            cloudiness,\n",
    "            edgecolor=\"black\", linewidths=1, marker=\"o\",\n",
    "            alpha=0.8, label=\"Cities\")\n",
    "\n",
    "# Incorporate the other graph properties\n",
    "\n",
    "plt.title(f\"City Latitude vs. Cloudiness (%) \"+ time.strftime(\"%x\"))\n",
    "plt.ylabel(\"Cloudiness (%)\")\n",
    "plt.xlabel(\"Latitude\")\n",
    "plt.grid(True)\n",
    "\n",
    "# Save the figure\n",
    "\n",
    "plt.savefig(\"weather_data/Fig3.png\")\n",
    "\n",
    "# Show plot\n",
    "\n",
    "plt.show()"
   ]
  },
  {
   "cell_type": "code",
   "execution_count": 57,
   "id": "7b354e5a",
   "metadata": {},
   "outputs": [
    {
     "data": {
      "image/png": "[encoded data removed]",
      "text/plain": [
       "<Figure size 432x288 with 1 Axes>"
      ]
     },
     "metadata": {
      "needs_background": "light"
     },
     "output_type": "display_data"
    }
   ],
   "source": [
    "# Build the scatter plots for latitude vs. wind speed\n",
    "\n",
    "plt.scatter(lats,\n",
    "            wind_speed,\n",
    "            edgecolor=\"black\", linewidths=1, marker=\"o\",\n",
    "            alpha=0.8, label=\"Cities\")\n",
    "\n",
    "# Incorporate the other graph properties\n",
    "\n",
    "plt.title(f\"City Latitude vs. Wind Speed \"+ time.strftime(\"%x\"))\n",
    "plt.ylabel(\"Wind Speed (mph)\")\n",
    "plt.xlabel(\"Latitude\")\n",
    "plt.grid(True)\n",
    "\n",
    "# Save the figure\n",
    "\n",
    "plt.savefig(\"weather_data/Fig4.png\")\n",
    "\n",
    "# Show plot\n",
    "\n",
    "plt.show()"
   ]
  },
  {
   "cell_type": "code",
   "execution_count": null,
   "id": "ca9bc7df",
   "metadata": {},
   "outputs": [],
   "source": []
  }
 ],
 "metadata": {
  "kernelspec": {
   "display_name": "Python 3 (ipykernel)",
   "language": "python",
   "name": "python3"
  },
  "language_info": {
   "codemirror_mode": {
    "name": "ipython",
    "version": 3
   },
   "file_extension": ".py",
   "mimetype": "text/x-python",
   "name": "python",
   "nbconvert_exporter": "python",
   "pygments_lexer": "ipython3",
   "version": "3.9.12"
  }
 },
 "nbformat": 4,
 "nbformat_minor": 5
}
